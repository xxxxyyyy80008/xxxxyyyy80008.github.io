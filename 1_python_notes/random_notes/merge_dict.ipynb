{
 "cells": [
  {
   "cell_type": "markdown",
   "id": "525ff8db",
   "metadata": {},
   "source": [
    "## How to merge/concatenate \n",
    "\n",
    "**Reference:**\n",
    "- [Python Program to Merge Dictionaries (with Examples)](https://favtutor.com/blogs/merge-dictionaries-python)\n",
    "\n",
    "**Methods of merging dictionaries:**\n",
    "\n",
    "\n",
    "![png](img/merge_dicts.png)\n",
    "\n",
    "\n",
    "*the following content is copied from the reference page**\n",
    "\n",
    "\n",
    "| #  |  method | code  | output  |\n",
    "| :------------ | :------------ | :------------ | :------------ |\n",
    "|  1 |  update | dict_1 = {'John': 15, 'Rick': 10, 'Misa' : 12 }<br>dict_2 = {'Bonnie': 18,'Rick': 20,'Matt' : 16 }<br>dict_1.update(dict_2)<br>print(dict_1)<br>   |  {'John': 15, 'Rick': 20, 'Misa': 12, 'Bonnie': 18, 'Matt': 16} |\n",
    "|  **2** |  ` ** ` operator |  dict_1 = {'John': 15, 'Rick': 10, 'Misa' : 12 }<br>  dict_2 = {'Bonnie': 18,'Rick': 20,'Matt' : 16 }<br>  dict_3 = {`**`dict_1,`**`dict_2}<br>  print(dict_3) <br>  |  {'John': 15, 'Rick': 20, 'Misa': 12, 'Bonnie': 18, 'Matt': 16} |\n",
    "|  3 |  ` ** ` operator |  dict_1={'John': 15, 'Rick': 10, 'Misa' : 12 }<br>  dict_2={'Bonnie': 18,'Rick': 20,'Matt' : 16 }<br>  dict_3=dict(dict_1,`**`dict_2)<br>  print (dict_3)<br>   |   {'John': 15, 'Rick': 20, 'Misa': 12, 'Bonnie': 18, 'Matt': 16}|\n",
    "|4| ` ** ` operator| dict_1={'John': 15, 'Rick': 10, 'Misa' : 12 }<br>  dict_2={'Bonnie': 18,'Rick': 20,'Matt' : 16 }<br>  dict_3=dict(dict_2, `**`dict_1)<br>  print (dict_3) <br>  | {'Bonnie': 18, 'Rick': 10, 'Matt': 16, 'John': 15, 'Misa': 12} |\n",
    "|5|`collection.ChainMap()`|from collections import ChainMap<br>dict_1={'John': 15, 'Rick': 10, 'Misa' : 12 }<br>dict_2={'Bonnie': 18,'Rick': 20,'Matt' : 16 }<br>dict_3 = ChainMap(dict_1, dict_2)<br>print(dict_3)<br>print(dict(dict_3))<br>|ChainMap({'John': 15, 'Rick': 10, 'Misa': 12}, {'Bonnie': 18, 'Rick': 20, 'Matt': 16})<br>{'Bonnie': 18, 'Rick': 10, 'Matt': 16, 'John': 15, 'Misa': 12}<br>|\n",
    "|6|`itertools.chain()`|import itertools<br>dict_1={'John': 15, 'Rick': 10, 'Misa': 12}<br>dict_2={'Bonnie': 18, 'Rick': 20, 'Matt': 16}<br>dict_3=itertools.chain(dict_1.items(),dict_2.items())<br>print (dict_3)<br>print(dict(dict_3))<br>|`<itertools.chain object at 0x0000015CB1887588>`<br>{'John': 15, 'Rick': 20, 'Misa': 12, 'Bonnie': 18, 'Matt': 16}<br>|\n"
   ]
  },
  {
   "cell_type": "code",
   "execution_count": 1,
   "id": "ed91184e",
   "metadata": {},
   "outputs": [
    {
     "name": "stdout",
     "output_type": "stream",
     "text": [
      "{'John': 15, 'Rick': 20, 'Misa': 12, 'Bonnie': 18, 'Matt': 16}\n"
     ]
    }
   ],
   "source": [
    "dict_1 = {'John': 15, 'Rick': 10, 'Misa' : 12 }\n",
    "dict_2 = {'Bonnie': 18,'Rick': 20,'Matt' : 16 }\n",
    "dict_1.update(dict_2)\n",
    "print(dict_1)"
   ]
  },
  {
   "cell_type": "code",
   "execution_count": 2,
   "id": "d5a23af0",
   "metadata": {},
   "outputs": [
    {
     "name": "stdout",
     "output_type": "stream",
     "text": [
      "{'John': 15, 'Rick': 20, 'Misa': 12, 'Bonnie': 18, 'Matt': 16}\n"
     ]
    }
   ],
   "source": [
    "dict_1 = {'John': 15, 'Rick': 10, 'Misa' : 12 }\n",
    "dict_2 = {'Bonnie': 18,'Rick': 20,'Matt' : 16 }\n",
    "dict_3 = {**dict_1,**dict_2}\n",
    "print(dict_3)"
   ]
  },
  {
   "cell_type": "code",
   "execution_count": 3,
   "id": "66aaac18",
   "metadata": {},
   "outputs": [
    {
     "name": "stdout",
     "output_type": "stream",
     "text": [
      "{'John': 15, 'Rick': 20, 'Misa': 12, 'Bonnie': 18, 'Matt': 16}\n"
     ]
    }
   ],
   "source": [
    "dict_1={'John': 15, 'Rick': 10, 'Misa' : 12 }\n",
    "dict_2={'Bonnie': 18,'Rick': 20,'Matt' : 16 }\n",
    "dict_3=dict(dict_1,**dict_2)\n",
    "print (dict_3)"
   ]
  },
  {
   "cell_type": "code",
   "execution_count": 4,
   "id": "2e207a7e",
   "metadata": {},
   "outputs": [
    {
     "name": "stdout",
     "output_type": "stream",
     "text": [
      "{'Bonnie': 18, 'Rick': 10, 'Matt': 16, 'John': 15, 'Misa': 12}\n"
     ]
    }
   ],
   "source": [
    "dict_1={'John': 15, 'Rick': 10, 'Misa' : 12 }\n",
    "dict_2={'Bonnie': 18,'Rick': 20,'Matt' : 16 }\n",
    "dict_3=dict(dict_2, **dict_1)\n",
    "print (dict_3)"
   ]
  },
  {
   "cell_type": "code",
   "execution_count": 5,
   "id": "7e730aed",
   "metadata": {},
   "outputs": [
    {
     "name": "stdout",
     "output_type": "stream",
     "text": [
      "ChainMap({'John': 15, 'Rick': 10, 'Misa': 12}, {'Bonnie': 18, 'Rick': 20, 'Matt': 16})\n",
      "{'Bonnie': 18, 'Rick': 10, 'Matt': 16, 'John': 15, 'Misa': 12}\n"
     ]
    }
   ],
   "source": [
    "from collections import ChainMap\n",
    "dict_1={'John': 15, 'Rick': 10, 'Misa' : 12 }\n",
    "dict_2={'Bonnie': 18,'Rick': 20,'Matt' : 16 }\n",
    "dict_3 = ChainMap(dict_1, dict_2)\n",
    "print(dict_3)\n",
    "print(dict(dict_3))"
   ]
  },
  {
   "cell_type": "code",
   "execution_count": 6,
   "id": "5a81a378",
   "metadata": {},
   "outputs": [
    {
     "name": "stdout",
     "output_type": "stream",
     "text": [
      "<itertools.chain object at 0x0000022EAF4603C8>\n",
      "{'John': 15, 'Rick': 20, 'Misa': 12, 'Bonnie': 18, 'Matt': 16}\n"
     ]
    }
   ],
   "source": [
    "import itertools\n",
    "dict_1={'John': 15, 'Rick': 10, 'Misa': 12}\n",
    "dict_2={'Bonnie': 18, 'Rick': 20, 'Matt': 16}\n",
    "dict_3=itertools.chain(dict_1.items(),dict_2.items())\n",
    "print (dict_3)\n",
    "print(dict(dict_3))"
   ]
  }
 ],
 "metadata": {
  "kernelspec": {
   "display_name": "Python 3 (ipykernel)",
   "language": "python",
   "name": "python3"
  },
  "language_info": {
   "codemirror_mode": {
    "name": "ipython",
    "version": 3
   },
   "file_extension": ".py",
   "mimetype": "text/x-python",
   "name": "python",
   "nbconvert_exporter": "python",
   "pygments_lexer": "ipython3",
   "version": "3.7.3"
  }
 },
 "nbformat": 4,
 "nbformat_minor": 5
}
